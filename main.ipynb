{
 "metadata": {
  "language_info": {
   "codemirror_mode": {
    "name": "ipython",
    "version": 3
   },
   "file_extension": ".py",
   "mimetype": "text/x-python",
   "name": "python",
   "nbconvert_exporter": "python",
   "pygments_lexer": "ipython3",
   "version": "3.8.5-final"
  },
  "orig_nbformat": 2,
  "kernelspec": {
   "name": "python3",
   "display_name": "Python 3",
   "language": "python"
  }
 },
 "nbformat": 4,
 "nbformat_minor": 2,
 "cells": [
  {
   "cell_type": "code",
   "execution_count": 1,
   "metadata": {},
   "outputs": [
    {
     "output_type": "stream",
     "name": "stdout",
     "text": [
      "IMPORTED!\n"
     ]
    }
   ],
   "source": [
    "import numpy as np\n",
    "import pandas as pd\n",
    "\n",
    "from sklearn.cluster import k_means\n",
    "from sklearn.metrics import silhouette_score as sh_score\n",
    "from sklearn.metrics import davies_bouldin_score as db_score\n",
    "\n",
    "from skfuzzy import cmeans\n",
    "\n",
    "print(\"IMPORTED!\")"
   ]
  },
  {
   "cell_type": "code",
   "execution_count": 2,
   "metadata": {},
   "outputs": [
    {
     "output_type": "stream",
     "name": "stdout",
     "text": [
      "DATA READ!\n"
     ]
    }
   ],
   "source": [
    "from os.path import join\n",
    "\n",
    "DATA_PATH = \"data\"\n",
    "\n",
    "data_sets = [pd.read_csv(join(DATA_PATH, f\"{n}.csv\"), header=None, names = list(range(1, 22))) for n in range(1, 57)]\n",
    "\n",
    "print(\"DATA READ!\")"
   ]
  },
  {
   "cell_type": "code",
   "execution_count": 3,
   "metadata": {},
   "outputs": [
    {
     "output_type": "stream",
     "name": "stdout",
     "text": [
      "KMEANS!\n"
     ]
    }
   ],
   "source": [
    "k_means = [[k_means(dset.iloc[:, list(range(20))], k) for k in range(2, 11)] for dset in data_sets]\n",
    "\n",
    "print(\"KMEANS!\")"
   ]
  },
  {
   "cell_type": "code",
   "execution_count": 4,
   "metadata": {},
   "outputs": [
    {
     "output_type": "stream",
     "name": "stdout",
     "text": [
      "SCORED KMEANS!\n"
     ]
    }
   ],
   "source": [
    "k_means_sil = [[sh_score(dset, labels) for (_, labels, _) in means] for (dset, means) in zip(data_sets, k_means)]\n",
    "k_means_dbs = [[db_score(dset, labels) for (_, labels, _) in means] for (dset, means) in zip(data_sets, k_means)]\n",
    "\n",
    "print(\"SCORED KMEANS!\")"
   ]
  },
  {
   "cell_type": "code",
   "execution_count": 5,
   "metadata": {},
   "outputs": [
    {
     "output_type": "stream",
     "name": "stdout",
     "text": [
      "CMEANS!\n"
     ]
    }
   ],
   "source": [
    "c_means = [[cmeans(dset.iloc[:, list(range(20))].transpose(), c, 2.3, 0.001, 1000) for c in range(2, 11)] for dset in data_sets]\n",
    "\n",
    "print(\"CMEANS!\")"
   ]
  },
  {
   "cell_type": "code",
   "execution_count": 6,
   "metadata": {
    "tags": []
   },
   "outputs": [
    {
     "output_type": "stream",
     "name": "stdout",
     "text": [
      "SCORED CMEANS!\n"
     ]
    }
   ],
   "source": [
    "from defuzz import defuzz\n",
    "\n",
    "c_means_sil = [[\n",
    "    sh_score(dset, defuzz(mean[3]))\n",
    "    for mean in c_mean]\n",
    "for dset, c_mean in zip(data_sets, c_means)]\n",
    "\n",
    "c_means_dbs = [[\n",
    "    db_score(dset, defuzz(mean[3]))\n",
    "    for mean in c_mean]\n",
    "    for dset, c_mean in zip(data_sets, c_means)]\n",
    "\n",
    "print(\"SCORED CMEANS!\")"
   ]
  },
  {
   "cell_type": "code",
   "execution_count": 7,
   "metadata": {},
   "outputs": [
    {
     "output_type": "stream",
     "name": "stdout",
     "text": [
      "FILE WRITTEN!\n"
     ]
    }
   ],
   "source": [
    "import csv\n",
    "\n",
    "with open('silhouette-scores.csv', 'w+') as f:\n",
    "    writer = csv.writer(f)\n",
    "    writer.writerow(['K Means'])\n",
    "    writer.writerow(['DataSet', 'Clusters (2-10)'])\n",
    "    for data_set, scores in enumerate(k_means_sil):\n",
    "        writer.writerow([data_set + 1] + scores)\n",
    "    writer.writerow([''])\n",
    "    writer.writerow(['C Means'])\n",
    "    writer.writerow(['DataSet', 'Clusters (2-10)'])\n",
    "    for data_set, scores in enumerate(c_means_sil):\n",
    "        writer.writerow([data_set + 1] + scores)\n",
    "\n",
    "print(\"FILE WRITTEN!\")"
   ]
  },
  {
   "cell_type": "code",
   "execution_count": 8,
   "metadata": {},
   "outputs": [
    {
     "output_type": "stream",
     "name": "stdout",
     "text": [
      "FILE WRITTEN!\n"
     ]
    }
   ],
   "source": [
    "import csv\n",
    "\n",
    "with open('davies-scores.csv', 'w+') as f:\n",
    "    writer = csv.writer(f)\n",
    "    writer.writerow(['K Means'])\n",
    "    writer.writerow(['DataSet', 'Clusters (2-10)'])\n",
    "    for data_set, scores in enumerate(k_means_dbs):\n",
    "        writer.writerow([data_set + 1] + scores)\n",
    "    writer.writerow([''])\n",
    "    writer.writerow(['C Means'])\n",
    "    writer.writerow(['DataSet', 'Clusters (2-10)'])\n",
    "    for data_set, scores in enumerate(c_means_dbs):\n",
    "        writer.writerow([data_set + 1] + scores)\n",
    "\n",
    "print(\"FILE WRITTEN!\")"
   ]
  }
 ]
}