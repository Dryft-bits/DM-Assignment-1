{
 "metadata": {
  "language_info": {
   "codemirror_mode": {
    "name": "ipython",
    "version": 3
   },
   "file_extension": ".py",
   "mimetype": "text/x-python",
   "name": "python",
   "nbconvert_exporter": "python",
   "pygments_lexer": "ipython3",
   "version": "3.8.5-final"
  },
  "orig_nbformat": 2,
  "kernelspec": {
   "name": "python3",
   "display_name": "Python 3",
   "language": "python"
  }
 },
 "nbformat": 4,
 "nbformat_minor": 2,
 "cells": [
  {
   "cell_type": "code",
   "execution_count": 14,
   "metadata": {},
   "outputs": [
    {
     "output_type": "stream",
     "name": "stdout",
     "text": [
      "IMPORTED!\n"
     ]
    }
   ],
   "source": [
    "import numpy as np\n",
    "import pandas as pd\n",
    "\n",
    "from sklearn.cluster import k_means\n",
    "from sklearn.metrics import silhouette_score as sh_score\n",
    "from sklearn.metrics import davies_bouldin_score as db_score\n",
    "\n",
    "from skfuzzy import cmeans\n",
    "\n",
    "print(\"IMPORTED!\")"
   ]
  },
  {
   "cell_type": "code",
   "execution_count": 2,
   "metadata": {},
   "outputs": [
    {
     "output_type": "stream",
     "name": "stdout",
     "text": [
      "DATA READ!\n"
     ]
    }
   ],
   "source": [
    "from os.path import join\n",
    "\n",
    "DATA_PATH = \"data\"\n",
    "\n",
    "data_sets = [pd.read_csv(join(DATA_PATH, f\"{n}.csv\"), header=None, names = list(range(1, 22))) for n in range(1, 57)]\n",
    "\n",
    "print(\"DATA READ!\")"
   ]
  },
  {
   "cell_type": "code",
   "execution_count": 3,
   "metadata": {},
   "outputs": [
    {
     "output_type": "stream",
     "name": "stdout",
     "text": [
      "KMEANS!\n"
     ]
    }
   ],
   "source": [
    "k_means = [[k_means(dset.iloc[:, list(range(20))], k) for k in range(2, 11)] for dset in data_sets]\n",
    "\n",
    "print(\"KMEANS!\")"
   ]
  },
  {
   "cell_type": "code",
   "execution_count": 5,
   "metadata": {},
   "outputs": [
    {
     "output_type": "stream",
     "name": "stdout",
     "text": [
      "SCORED!\n"
     ]
    }
   ],
   "source": [
    "silhouettes = [[sh_score(dset, labels) for (_, labels, _) in means] for (dset, means) in zip(data_sets, k_means)]\n",
    "davies = [[db_score(dset, labels) for (_, labels, _) in means] for (dset, means) in zip(data_sets, k_means)]\n",
    "\n",
    "print(\"SCORED!\")"
   ]
  },
  {
   "cell_type": "code",
   "execution_count": 12,
   "metadata": {},
   "outputs": [
    {
     "output_type": "stream",
     "name": "stdout",
     "text": [
      "FOUND BEST!\n"
     ]
    }
   ],
   "source": [
    "clusters = []\n",
    "for s_scores, d_scores in zip(silhouettes, davies):\n",
    "    best_clusters = -1\n",
    "    max_scr = -1000\n",
    "    for i, (s, d) in enumerate(zip(s_scores, d_scores)):\n",
    "        score = s * (1 - d)\n",
    "        if score > max_scr:\n",
    "            best_clusters = i + 2\n",
    "            max_scr = score\n",
    "    clusters.append(best_clusters)\n",
    "\n",
    "print(\"FOUND BEST!\")"
   ]
  },
  {
   "cell_type": "code",
   "execution_count": 17,
   "metadata": {},
   "outputs": [
    {
     "output_type": "stream",
     "name": "stdout",
     "text": [
      "FILE WRITTEN!\n"
     ]
    }
   ],
   "source": [
    "import csv\n",
    "\n",
    "with open('k-means-scores.csv', 'w+') as f:\n",
    "    writer = csv.writer(f)\n",
    "    writer.writerow(['DataSet', 'Clusters', 'Silhouette', 'Davies-Bouldin'])\n",
    "    for data_set, clusters in enumerate(clusters):\n",
    "        writer.writerow([data_set + 1, clusters, silhouettes[data_set][clusters - 2], davies[data_set][clusters - 2]])\n",
    "\n",
    "print(\"FILE WRITTEN!\")"
   ]
  },
  {
   "cell_type": "code",
   "execution_count": 16,
   "metadata": {},
   "outputs": [],
   "source": [
    "# c_means = [[cmeans(dset.iloc[:, list(range(20))].transpose(), c, 2.3, 0.001, 1000) for c in range(2, 11)] for dset in data_sets]"
   ]
  },
  {
   "cell_type": "code",
   "execution_count": null,
   "metadata": {},
   "outputs": [],
   "source": []
  }
 ]
}